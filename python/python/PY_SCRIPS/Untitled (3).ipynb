{
 "cells": [
  {
   "cell_type": "code",
   "execution_count": null,
   "source": [
    "import os\r\n",
    "folder= os.getcwd()\r\n",
    "subfolders =os.walk(folder)\r\n",
    "for i in subfolders:\r\n",
    "    print(i)"
   ],
   "outputs": [],
   "metadata": {}
  },
  {
   "cell_type": "code",
   "execution_count": null,
   "source": [],
   "outputs": [],
   "metadata": {}
  },
  {
   "cell_type": "code",
   "execution_count": null,
   "source": [],
   "outputs": [],
   "metadata": {}
  },
  {
   "cell_type": "code",
   "execution_count": null,
   "source": [],
   "outputs": [],
   "metadata": {}
  },
  {
   "cell_type": "code",
   "execution_count": null,
   "source": [],
   "outputs": [],
   "metadata": {}
  },
  {
   "cell_type": "code",
   "execution_count": null,
   "source": [],
   "outputs": [],
   "metadata": {}
  },
  {
   "cell_type": "code",
   "execution_count": null,
   "source": [],
   "outputs": [],
   "metadata": {}
  },
  {
   "cell_type": "code",
   "execution_count": 110,
   "source": [
    "for i in range(2):\r\n",
    "    while True:\r\n",
    "        print(i)\r\n",
    "        break"
   ],
   "outputs": [
    {
     "output_type": "stream",
     "name": "stdout",
     "text": [
      "0\n",
      "1\n"
     ]
    }
   ],
   "metadata": {}
  },
  {
   "cell_type": "code",
   "execution_count": null,
   "source": [],
   "outputs": [],
   "metadata": {}
  },
  {
   "cell_type": "code",
   "execution_count": null,
   "source": [],
   "outputs": [],
   "metadata": {}
  },
  {
   "cell_type": "code",
   "execution_count": null,
   "source": [],
   "outputs": [],
   "metadata": {}
  },
  {
   "cell_type": "code",
   "execution_count": null,
   "source": [],
   "outputs": [],
   "metadata": {}
  },
  {
   "cell_type": "code",
   "execution_count": null,
   "source": [],
   "outputs": [],
   "metadata": {}
  },
  {
   "cell_type": "code",
   "execution_count": null,
   "source": [],
   "outputs": [],
   "metadata": {}
  },
  {
   "cell_type": "code",
   "execution_count": null,
   "source": [],
   "outputs": [],
   "metadata": {}
  },
  {
   "cell_type": "code",
   "execution_count": null,
   "source": [],
   "outputs": [],
   "metadata": {}
  },
  {
   "cell_type": "code",
   "execution_count": null,
   "source": [],
   "outputs": [],
   "metadata": {}
  },
  {
   "cell_type": "code",
   "execution_count": null,
   "source": [],
   "outputs": [],
   "metadata": {}
  },
  {
   "cell_type": "code",
   "execution_count": null,
   "source": [],
   "outputs": [],
   "metadata": {}
  },
  {
   "cell_type": "code",
   "execution_count": 79,
   "source": [
    "# importing libraries\r\n",
    "import pandas as pd\r\n",
    "\r\n",
    "# Storing data in dictionary\r\n",
    "details = {\r\n",
    "\t'Column1': [1, 2, 3, 4,5],\r\n",
    "\t'Column2': [7, 25, 4,4, 9],\r\n",
    "\t'Column3': [3, 8, 10, 30,5],\r\n",
    "\t'Column4': [7, 4, 25, 9,5],\r\n",
    "}\r\n",
    "\r\n",
    "# creating a Dataframe object\r\n",
    "df = pd.DataFrame(details)\r\n",
    "df1=df.sort_values(by=['Column4']).reset_index().iloc[:,1:].drop_duplicates(subset=\"Column2\")\r\n",
    "display(df1)\r\n",
    "df2=df.sort_values(by=['Column2']).reset_index().iloc[:,1:]\r\n",
    "display(df2)\r\n",
    "display(df2['Column4'])\r\n",
    "display(df1['Column2'])\r\n",
    "df2['Column4'].equals(df1['Column2']) # Returns True\r\n",
    "\r\n",
    "# df['Column1'].equals(df['Column2']) Returns False\r\n"
   ],
   "outputs": [
    {
     "output_type": "display_data",
     "data": {
      "text/plain": [
       "   Column1  Column2  Column3  Column4\n",
       "0        2       25        8        4\n",
       "1        5        9        5        5\n",
       "2        1        7        3        7\n",
       "3        4        4       30        9"
      ],
      "text/html": [
       "<div>\n",
       "<style scoped>\n",
       "    .dataframe tbody tr th:only-of-type {\n",
       "        vertical-align: middle;\n",
       "    }\n",
       "\n",
       "    .dataframe tbody tr th {\n",
       "        vertical-align: top;\n",
       "    }\n",
       "\n",
       "    .dataframe thead th {\n",
       "        text-align: right;\n",
       "    }\n",
       "</style>\n",
       "<table border=\"1\" class=\"dataframe\">\n",
       "  <thead>\n",
       "    <tr style=\"text-align: right;\">\n",
       "      <th></th>\n",
       "      <th>Column1</th>\n",
       "      <th>Column2</th>\n",
       "      <th>Column3</th>\n",
       "      <th>Column4</th>\n",
       "    </tr>\n",
       "  </thead>\n",
       "  <tbody>\n",
       "    <tr>\n",
       "      <th>0</th>\n",
       "      <td>2</td>\n",
       "      <td>25</td>\n",
       "      <td>8</td>\n",
       "      <td>4</td>\n",
       "    </tr>\n",
       "    <tr>\n",
       "      <th>1</th>\n",
       "      <td>5</td>\n",
       "      <td>9</td>\n",
       "      <td>5</td>\n",
       "      <td>5</td>\n",
       "    </tr>\n",
       "    <tr>\n",
       "      <th>2</th>\n",
       "      <td>1</td>\n",
       "      <td>7</td>\n",
       "      <td>3</td>\n",
       "      <td>7</td>\n",
       "    </tr>\n",
       "    <tr>\n",
       "      <th>3</th>\n",
       "      <td>4</td>\n",
       "      <td>4</td>\n",
       "      <td>30</td>\n",
       "      <td>9</td>\n",
       "    </tr>\n",
       "  </tbody>\n",
       "</table>\n",
       "</div>"
      ]
     },
     "metadata": {}
    },
    {
     "output_type": "display_data",
     "data": {
      "text/plain": [
       "   Column1  Column2  Column3  Column4\n",
       "0        3        4       10       25\n",
       "1        4        4       30        9\n",
       "2        1        7        3        7\n",
       "3        5        9        5        5\n",
       "4        2       25        8        4"
      ],
      "text/html": [
       "<div>\n",
       "<style scoped>\n",
       "    .dataframe tbody tr th:only-of-type {\n",
       "        vertical-align: middle;\n",
       "    }\n",
       "\n",
       "    .dataframe tbody tr th {\n",
       "        vertical-align: top;\n",
       "    }\n",
       "\n",
       "    .dataframe thead th {\n",
       "        text-align: right;\n",
       "    }\n",
       "</style>\n",
       "<table border=\"1\" class=\"dataframe\">\n",
       "  <thead>\n",
       "    <tr style=\"text-align: right;\">\n",
       "      <th></th>\n",
       "      <th>Column1</th>\n",
       "      <th>Column2</th>\n",
       "      <th>Column3</th>\n",
       "      <th>Column4</th>\n",
       "    </tr>\n",
       "  </thead>\n",
       "  <tbody>\n",
       "    <tr>\n",
       "      <th>0</th>\n",
       "      <td>3</td>\n",
       "      <td>4</td>\n",
       "      <td>10</td>\n",
       "      <td>25</td>\n",
       "    </tr>\n",
       "    <tr>\n",
       "      <th>1</th>\n",
       "      <td>4</td>\n",
       "      <td>4</td>\n",
       "      <td>30</td>\n",
       "      <td>9</td>\n",
       "    </tr>\n",
       "    <tr>\n",
       "      <th>2</th>\n",
       "      <td>1</td>\n",
       "      <td>7</td>\n",
       "      <td>3</td>\n",
       "      <td>7</td>\n",
       "    </tr>\n",
       "    <tr>\n",
       "      <th>3</th>\n",
       "      <td>5</td>\n",
       "      <td>9</td>\n",
       "      <td>5</td>\n",
       "      <td>5</td>\n",
       "    </tr>\n",
       "    <tr>\n",
       "      <th>4</th>\n",
       "      <td>2</td>\n",
       "      <td>25</td>\n",
       "      <td>8</td>\n",
       "      <td>4</td>\n",
       "    </tr>\n",
       "  </tbody>\n",
       "</table>\n",
       "</div>"
      ]
     },
     "metadata": {}
    },
    {
     "output_type": "display_data",
     "data": {
      "text/plain": [
       "0    25\n",
       "1     9\n",
       "2     7\n",
       "3     5\n",
       "4     4\n",
       "Name: Column4, dtype: int64"
      ]
     },
     "metadata": {}
    },
    {
     "output_type": "display_data",
     "data": {
      "text/plain": [
       "0    25\n",
       "1     9\n",
       "2     7\n",
       "3     4\n",
       "Name: Column2, dtype: int64"
      ]
     },
     "metadata": {}
    },
    {
     "output_type": "execute_result",
     "data": {
      "text/plain": [
       "False"
      ]
     },
     "metadata": {},
     "execution_count": 79
    }
   ],
   "metadata": {}
  },
  {
   "cell_type": "code",
   "execution_count": 22,
   "source": [
    "import os\r\n",
    " \r\n",
    "rootdir = os.getcwd()\r\n",
    "for it in os.scandir(rootdir):\r\n",
    "    if it.is_dir() and it.path.split('\\\\')[-1] ==\"SS_MIG_EDS_CTM_IR\":\r\n",
    "        print(it)\r\n",
    "        "
   ],
   "outputs": [
    {
     "output_type": "stream",
     "name": "stdout",
     "text": [
      "<DirEntry 'SS_MIG_EDS_CTM_IR'>\n"
     ]
    }
   ],
   "metadata": {}
  },
  {
   "cell_type": "code",
   "execution_count": null,
   "source": [
    "import os\r\n",
    "import pandas as pd \r\n",
    "cwd = os.getcwd()\r\n",
    "SS_MIG_EDS_CTM_IR=[]\r\n",
    "SS_MIG_EDS_CTM_IR_AUTHUSERS=[]\r\n",
    "SS_MIG_EDS_CTM_IR_log=[]\r\n",
    "SS_MIG_EDS_CTM_IR_PROCESSED=[]\r\n",
    "for rootdir, dirs, files in os.walk(cwd):\r\n",
    "    if rootdir.split('\\\\')[-1] ==\"SS_MIG_EDS_CTM_IR\":\r\n",
    "        for file in files:\r\n",
    "            SS_MIG_EDS_CTM_IR.append(file)\r\n",
    "    if rootdir.split('\\\\')[-1] ==\"SS_MIG_EDS_CTM_IR_AUTHUSERS\":\r\n",
    "        for file in files:\r\n",
    "            SS_MIG_EDS_CTM_IR_AUTHUSERS.append(file)\r\n",
    "    if rootdir.split('\\\\')[-1] ==\"SS_MIG_EDS_CTM_IR_log\":\r\n",
    "        for file in files:\r\n",
    "            SS_MIG_EDS_CTM_IR_log.append(file)\r\n",
    "    if rootdir.split('\\\\')[-1] ==\"SS_MIG_EDS_CTM_IR_PROCESSED\":\r\n",
    "        for file in files:\r\n",
    "            SS_MIG_EDS_CTM_IR_PROCESSED.append(file)\r\n",
    "for i in SS_MIG_EDS_CTM_IR:\r\n",
    "    if i in SS_MIG_EDS_CTM_IR_AUTHUSERS:\r\n",
    "        data_IR=pd.read_csv(os.path.join(cwd+\"\\\\SS_MIG_EDS_CTM_IR\\\\\",i),header=2,usecols=[0,1] ).drop_duplicates(subset=data_IR.columns[0], keep=\"first\")\r\n",
    "        data_auth=pd.read_csv(os.path.join(cwd+\"\\\\SS_MIG_EDS_CTM_IR_AUTHUSERS\\\\\",i),header=2 ,usecols=[0,1]).drop_duplicates(subset=data_auth.columns[0], keep=\"first\")\r\n",
    "        match=pd.merge(data_IR[data_IR.columns[0]],data_auth, on=data_IR.columns[0],how='inner')\r\n",
    "        common1 = data_auth.merge(data_IR,on=data_IR.columns[0])\r\n",
    "        not_matched1=data_auth[(~data_auth[data_IR.columns[0]].isin(common1[data_IR.columns[0]]))].reset_index().iloc[:,1:]\r\n",
    "        not_matched2=data_IR[(~data_IR[data_auth.columns[0]].isin(common1[data_IR.columns[0]]))].reset_index().iloc[:,1:]\r\n",
    "        not_matched = pd.concat([not_matched1,not_matched2]).reset_index().iloc[:,1:]\r\n",
    "        display(match)\r\n",
    "        display(not_matched)"
   ],
   "outputs": [
    {
     "output_type": "display_data",
     "data": {
      "text/plain": [
       "             CTM Folder Name/Pattern   Promotion Rule\n",
       "0  BI_INF_UAT_MDLR_ACKEMAIL_WKLY_JS1  EDMUAT-TO-EDMIR"
      ],
      "text/html": [
       "<div>\n",
       "<style scoped>\n",
       "    .dataframe tbody tr th:only-of-type {\n",
       "        vertical-align: middle;\n",
       "    }\n",
       "\n",
       "    .dataframe tbody tr th {\n",
       "        vertical-align: top;\n",
       "    }\n",
       "\n",
       "    .dataframe thead th {\n",
       "        text-align: right;\n",
       "    }\n",
       "</style>\n",
       "<table border=\"1\" class=\"dataframe\">\n",
       "  <thead>\n",
       "    <tr style=\"text-align: right;\">\n",
       "      <th></th>\n",
       "      <th>CTM Folder Name/Pattern</th>\n",
       "      <th>Promotion Rule</th>\n",
       "    </tr>\n",
       "  </thead>\n",
       "  <tbody>\n",
       "    <tr>\n",
       "      <th>0</th>\n",
       "      <td>BI_INF_UAT_MDLR_ACKEMAIL_WKLY_JS1</td>\n",
       "      <td>EDMUAT-TO-EDMIR</td>\n",
       "    </tr>\n",
       "  </tbody>\n",
       "</table>\n",
       "</div>"
      ]
     },
     "metadata": {}
    },
    {
     "output_type": "display_data",
     "data": {
      "text/plain": [
       "            CTM Folder Name/Pattern   Promotion Rule\n",
       "0  BI_INFUAT_MDLR_ACKEMAIL_WKLY_JS1              NaN\n",
       "1  BI_INF_UAT_MDL_ACKEMAIL_WKLY_JS1  EDMUAT-TO-EDMIR"
      ],
      "text/html": [
       "<div>\n",
       "<style scoped>\n",
       "    .dataframe tbody tr th:only-of-type {\n",
       "        vertical-align: middle;\n",
       "    }\n",
       "\n",
       "    .dataframe tbody tr th {\n",
       "        vertical-align: top;\n",
       "    }\n",
       "\n",
       "    .dataframe thead th {\n",
       "        text-align: right;\n",
       "    }\n",
       "</style>\n",
       "<table border=\"1\" class=\"dataframe\">\n",
       "  <thead>\n",
       "    <tr style=\"text-align: right;\">\n",
       "      <th></th>\n",
       "      <th>CTM Folder Name/Pattern</th>\n",
       "      <th>Promotion Rule</th>\n",
       "    </tr>\n",
       "  </thead>\n",
       "  <tbody>\n",
       "    <tr>\n",
       "      <th>0</th>\n",
       "      <td>BI_INFUAT_MDLR_ACKEMAIL_WKLY_JS1</td>\n",
       "      <td>NaN</td>\n",
       "    </tr>\n",
       "    <tr>\n",
       "      <th>1</th>\n",
       "      <td>BI_INF_UAT_MDL_ACKEMAIL_WKLY_JS1</td>\n",
       "      <td>EDMUAT-TO-EDMIR</td>\n",
       "    </tr>\n",
       "  </tbody>\n",
       "</table>\n",
       "</div>"
      ]
     },
     "metadata": {}
    }
   ],
   "metadata": {}
  },
  {
   "cell_type": "code",
   "execution_count": null,
   "source": [],
   "outputs": [],
   "metadata": {}
  }
 ],
 "metadata": {
  "kernelspec": {
   "name": "python3",
   "display_name": "Python 3.9.1 64-bit"
  },
  "language_info": {
   "codemirror_mode": {
    "name": "ipython",
    "version": 3
   },
   "file_extension": ".py",
   "mimetype": "text/x-python",
   "name": "python",
   "nbconvert_exporter": "python",
   "pygments_lexer": "ipython3",
   "version": "3.9.1"
  },
  "interpreter": {
   "hash": "ac59ebe37160ed0dfa835113d9b8498d9f09ceb179beaac4002f036b9467c963"
  }
 },
 "nbformat": 4,
 "nbformat_minor": 5
}