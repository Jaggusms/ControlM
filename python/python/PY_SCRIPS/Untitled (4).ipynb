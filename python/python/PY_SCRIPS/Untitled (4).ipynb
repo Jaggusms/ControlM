{
 "cells": [
  {
   "cell_type": "code",
   "execution_count": null,
   "id": "c49ca760",
   "metadata": {},
   "outputs": [],
   "source": [
    "import os\n",
    "import linecache\n",
    "appl=[]\n",
    "line_number=-1\n",
    "with open(r\"esp.txt\", 'r') as fp:\n",
    "    #last_line_number=len(fp.readlines())\n",
    "    for l_no, line in enumerate(fp):\n",
    "        if './ ADD    NAME='+'BPRSDW1P' in line:\n",
    "            line_number=l_no\n",
    "        if './ ADD    NAME=' in line:\n",
    "            appl.append(l_no)\n",
    "if appl[-1]==line_number and line_number>0:\n",
    "    with open(r\"esp.txt\", 'r') as fp:\n",
    "        x = fp.readlines()[line_number+1:]\n",
    "        file1 = open('demofile.txt', 'w')\n",
    "        file1.writelines(x)\n",
    "        file1.close()\n",
    "if appl[-1]!=line_number and line_number>=0:\n",
    "    next_index=appl[appl.index(line_number)+1]\n",
    "    with open(r\"esp.txt\", 'r') as fp:\n",
    "        x = fp.readlines()[line_number:next_index]\n",
    "        file1 = open('demofile.txt', 'w')\n",
    "        file1.writelines(x)\n",
    "        file1.close()\n",
    "output=[]\n",
    "with open(r\"demofile.txt\", 'r') as fp:\n",
    "    for i, line in enumerate(fp):\n",
    "        if \"JOB %ESPAPPL..WITHDRAW\" in line:\n",
    "            for j in range(i+3,i+20):\n",
    "                string=linecache.getline(\"demofile.txt\",j)\n",
    "                if string.find(\"/*\")==-1:\n",
    "                    output.append(string)\n",
    "                if string.find(\"ENDJOB\")>=0:\n",
    "                    output.append(\"\\n\")\n",
    "                    break\n",
    "file = open('output.txt', 'a')\n",
    "file.writelines(output)\n",
    "file.close()\n",
    "os.remove(\"demofile.txt\") \n",
    "linecache.clearcache()"
   ]
  },
  {
   "cell_type": "code",
   "execution_count": 35,
   "id": "d8d24405",
   "metadata": {},
   "outputs": [
    {
     "data": {
      "text/plain": [
       "'BPRMIGM2'"
      ]
     },
     "execution_count": 35,
     "metadata": {},
     "output_type": "execute_result"
    }
   ],
   "source": [
    "appl_name=[]\n",
    "with open(r\"esp.txt\", 'r') as fp:\n",
    "    #last_line_number=len(fp.readlines())\n",
    "    for l_no, line in enumerate(fp):\n",
    "        if './ ADD    NAME=' in line:\n",
    "            li=line.strip(\"./ ADD    NAME=\")\n",
    "            li=li.strip(\"\\n\")\n",
    "            appl_name.append(li)\n",
    "appl_name[-1]"
   ]
  },
  {
   "cell_type": "code",
   "execution_count": 39,
   "id": "95222b35",
   "metadata": {},
   "outputs": [],
   "source": [
    "def out(x):\n",
    "    out_put=[]\n",
    "    for i, line in enumerate(x):\n",
    "        if \"JOB %ESPAPPL..WITHDRAW\" in line:\n",
    "            for j in range(i+3,i+20):\n",
    "                string=x[j]\n",
    "                if string.find(\"/*\")==-1:\n",
    "                    out_put.append(string)\n",
    "                if string.find(\"ENDJOB\")>=0:\n",
    "                    out_put.append(\"\\n\")\n",
    "                    break\n",
    "    return out_put\n",
    "def APPL_DETAILS(name):\n",
    "    appl=[]\n",
    "    line_number=-1\n",
    "    output=[]\n",
    "    with open(r\"esp.txt\", 'r') as fp:\n",
    "        original=fp.readlines()\n",
    "        #last_line_number=len(fp.readlines())\n",
    "        for l_no, line in enumerate(original):\n",
    "            if './ ADD    NAME='+ name in line:\n",
    "                line_number=l_no\n",
    "            if './ ADD    NAME=' in line:\n",
    "                appl.append(l_no)\n",
    "        if appl[-1]==line_number and line_number>0:\n",
    "            x = original[line_number+1:]\n",
    "            output +=out(x)\n",
    "        if appl[-1]!=line_number and line_number>=0:\n",
    "            next_index=appl[appl.index(line_number)+1]\n",
    "            x = original[line_number:next_index]\n",
    "            output +=out(x)\n",
    "    return output\n",
    "new_ouput=[]\n",
    "for name in appl_name:\n",
    "    new_ouput +=APPL_DETAILS(name)\n",
    "file = open('output1.txt', 'w')\n",
    "file.writelines(new_ouput)\n",
    "file.close()"
   ]
  },
  {
   "cell_type": "code",
   "execution_count": null,
   "id": "716f73dd",
   "metadata": {},
   "outputs": [],
   "source": []
  },
  {
   "cell_type": "code",
   "execution_count": null,
   "id": "77a439ee",
   "metadata": {},
   "outputs": [],
   "source": []
  },
  {
   "cell_type": "code",
   "execution_count": null,
   "id": "362f3865",
   "metadata": {},
   "outputs": [],
   "source": [
    "\n",
    "                "
   ]
  },
  {
   "cell_type": "code",
   "execution_count": null,
   "id": "ecd3498c",
   "metadata": {},
   "outputs": [],
   "source": [
    "import linecache\n",
    "string=linecache.getline(\"esp.txt\", 724169+1)\n",
    "print(string)\n",
    "linecache.clearcache()"
   ]
  },
  {
   "cell_type": "code",
   "execution_count": null,
   "id": "6dcfbb16",
   "metadata": {},
   "outputs": [],
   "source": [
    "import linecache\n",
    "ENDJOB_index=[]\n",
    "DELAYSUB_index=[]\n",
    "with open(r\"esp.txt\", 'r') as fp:\n",
    "    for i, line in enumerate(fp):\n",
    "        if i in appl[:5]:\n",
    "            print(line.strip())\n",
    "        if i in WITHDRAW[:5]:\n",
    "            for j in range(i,i+20):\n",
    "                string=linecache.getline(\"esp.txt\", j)\n",
    "                if string.find(\"ELAYSUB\")>0:\n",
    "                    DELAYSUB_index.append(j)\n",
    "                if string.find(\"ENDJOB\")>0:\n",
    "                    ENDJOB_index.append(j)\n",
    "                    \n",
    "                    \n",
    "linecache.clearcache()\n",
    "print(ENDJOB_index)\n",
    "print(DELAYSUB_index)"
   ]
  },
  {
   "cell_type": "code",
   "execution_count": null,
   "id": "1979ed07",
   "metadata": {},
   "outputs": [],
   "source": [
    "import mmap\n",
    "\n",
    "with open(r'Text.txt', 'rb', 0) as file:\n",
    "    s = mmap.mmap(file.fileno(), 0, access=mmap.ACCESS_READ)\n",
    "    if s.find(b'laptop') != -1:\n",
    "        print('string exist in a file')"
   ]
  },
  {
   "cell_type": "code",
   "execution_count": null,
   "id": "078f4535",
   "metadata": {},
   "outputs": [],
   "source": [
    "l=[1,2,3,4]\n",
    "l[1:-1]"
   ]
  },
  {
   "cell_type": "code",
   "execution_count": null,
   "id": "8f2b85d4",
   "metadata": {},
   "outputs": [],
   "source": [
    "print(\"dsvb\".find('dsv'))"
   ]
  },
  {
   "cell_type": "code",
   "execution_count": null,
   "id": "3307f2e4",
   "metadata": {},
   "outputs": [],
   "source": [
    "import linecache\n",
    "\n",
    "line_numbers = [2, 4]\n",
    "lines = []\n",
    "for i in line_numbers:\n",
    "    x = linecache.getline(r\"Text.txt\", i).strip()\n",
    "    lines.append(x)\n",
    "print(lines)"
   ]
  },
  {
   "cell_type": "code",
   "execution_count": 6,
   "id": "5b0c71ef",
   "metadata": {},
   "outputs": [
    {
     "name": "stdout",
     "output_type": "stream",
     "text": [
      "./ ADD    NAME=BPRSDW1P\n",
      "\n",
      "APPL BPRSDW1P -\n",
      "\n",
      "     DESCRIPTION('BIAPP1_DWA1P_RESOURCE_JS1') -\n",
      "\n",
      "     POST_OLDEST\n",
      "\n",
      "  /* -------------------------------------------------------------- */\n",
      "\n",
      "  /* Replacement CONTROL-M to ESP                                   */\n",
      "\n",
      "  /* Build ID     : 0590                                            */\n",
      "\n",
      "  /* Source DB    : CTM002                                          */\n",
      "\n",
      "  /* Build Date   : 2022-09-04 09:22:04                             */\n",
      "\n",
      "  /* Table Library: CTM002                                          */\n",
      "\n",
      "0 ./ ADD    NAME=BPRSDW1P\n",
      "\n",
      "1 APPL BPRSDW1P -\n",
      "\n",
      "2      DESCRIPTION('BIAPP1_DWA1P_RESOURCE_JS1') -\n",
      "\n",
      "3      POST_OLDEST\n",
      "\n",
      "4   /* -------------------------------------------------------------- */\n",
      "\n",
      "5   /* Replacement CONTROL-M to ESP                                   */\n",
      "\n",
      "6   /* Build ID     : 0590                                            */\n",
      "\n"
     ]
    }
   ],
   "source": [
    "with open(r\"esp.txt\", 'r') as fp:\n",
    "        x = fp.readlines()\n",
    "        for i in x[:10]:\n",
    "            print(i)\n",
    "        for i, line in enumerate(x):\n",
    "            print(i,line)\n",
    "            if i==6:\n",
    "                break\n",
    "        "
   ]
  },
  {
   "cell_type": "code",
   "execution_count": null,
   "id": "0a2e7f40",
   "metadata": {},
   "outputs": [],
   "source": [
    "import re\n",
    "re.find_all('a',\"a b a a a a\") "
   ]
  },
  {
   "cell_type": "code",
   "execution_count": 1,
   "id": "e187ae89",
   "metadata": {},
   "outputs": [
    {
     "data": {
      "application/javascript": [
       "\n",
       "        if (window._pyforest_update_imports_cell) { window._pyforest_update_imports_cell('import pandas as pd'); }\n",
       "    "
      ],
      "text/plain": [
       "<IPython.core.display.Javascript object>"
      ]
     },
     "metadata": {},
     "output_type": "display_data"
    }
   ],
   "source": [
    "data_=pd.DataFrame(columns=['PARENT_FOLDER','FOLDER_NAME','RBC','MAXWAIT'])"
   ]
  },
  {
   "cell_type": "code",
   "execution_count": 3,
   "id": "bae48a09",
   "metadata": {},
   "outputs": [],
   "source": [
    "data_['PARENT_FOLDER']=['BIAPP1_DWA1P_PROD_RESOURCE_JS1',\n",
    " 'BIAPP1_DWA1P_PROD_RESOURCE_JS1',\n",
    " 'BIAPP1_DWA1P_PROD_RESOURCE_JS1']"
   ]
  },
  {
   "cell_type": "code",
   "execution_count": 4,
   "id": "bf6a3fac",
   "metadata": {},
   "outputs": [
    {
     "data": {
      "text/plain": [
       "['BIAPP1_DWA1P_PROD_RESOURCE_JS1', 'BIAPP1_DWA1P_MIN', 'BIAPP1_DWA1P_MAX']"
      ]
     },
     "execution_count": 4,
     "metadata": {},
     "output_type": "execute_result"
    }
   ],
   "source": [
    "'BIAPP1_DWA1P_PROD_RESOURCE_JS1,BIAPP1_DWA1P_MIN,BIAPP1_DWA1P_MAX'.split(\",\")"
   ]
  },
  {
   "cell_type": "code",
   "execution_count": 5,
   "id": "df814c32",
   "metadata": {},
   "outputs": [],
   "source": [
    "data_['FOLDER_NAME']=['BIAPP1_DWA1P_PROD_RESOURCE_JS1', 'BIAPP1_DWA1P_MIN', 'BIAPP1_DWA1P_MAX']"
   ]
  },
  {
   "cell_type": "code",
   "execution_count": 6,
   "id": "5e3ab67a",
   "metadata": {},
   "outputs": [],
   "source": [
    "data_['RBC']=['EVERYDAY',\"\",\"\"]"
   ]
  },
  {
   "cell_type": "code",
   "execution_count": 7,
   "id": "18b45e0a",
   "metadata": {},
   "outputs": [],
   "source": [
    "data_['MAXWAIT']=[7,7,7]"
   ]
  },
  {
   "cell_type": "code",
   "execution_count": 13,
   "id": "d46685b7",
   "metadata": {},
   "outputs": [
    {
     "data": {
      "text/plain": [
       "[7, '', '']"
      ]
     },
     "execution_count": 13,
     "metadata": {},
     "output_type": "execute_result"
    }
   ],
   "source": [
    "m=[\"\"]*len(data_)\n",
    "m[0]=max(data_['MAXWAIT'])\n",
    "m"
   ]
  },
  {
   "cell_type": "code",
   "execution_count": 14,
   "id": "608b4a23",
   "metadata": {},
   "outputs": [],
   "source": [
    "data_['max']=m"
   ]
  },
  {
   "cell_type": "code",
   "execution_count": 15,
   "id": "6826790d",
   "metadata": {},
   "outputs": [
    {
     "data": {
      "text/html": [
       "<div>\n",
       "<style scoped>\n",
       "    .dataframe tbody tr th:only-of-type {\n",
       "        vertical-align: middle;\n",
       "    }\n",
       "\n",
       "    .dataframe tbody tr th {\n",
       "        vertical-align: top;\n",
       "    }\n",
       "\n",
       "    .dataframe thead th {\n",
       "        text-align: right;\n",
       "    }\n",
       "</style>\n",
       "<table border=\"1\" class=\"dataframe\">\n",
       "  <thead>\n",
       "    <tr style=\"text-align: right;\">\n",
       "      <th></th>\n",
       "      <th>PARENT_FOLDER</th>\n",
       "      <th>FOLDER_NAME</th>\n",
       "      <th>RBC</th>\n",
       "      <th>MAXWAIT</th>\n",
       "      <th>max</th>\n",
       "    </tr>\n",
       "  </thead>\n",
       "  <tbody>\n",
       "    <tr>\n",
       "      <th>0</th>\n",
       "      <td>BIAPP1_DWA1P_PROD_RESOURCE_JS1</td>\n",
       "      <td>BIAPP1_DWA1P_PROD_RESOURCE_JS1</td>\n",
       "      <td>EVERYDAY</td>\n",
       "      <td>7</td>\n",
       "      <td>7</td>\n",
       "    </tr>\n",
       "    <tr>\n",
       "      <th>1</th>\n",
       "      <td>BIAPP1_DWA1P_PROD_RESOURCE_JS1</td>\n",
       "      <td>BIAPP1_DWA1P_MIN</td>\n",
       "      <td></td>\n",
       "      <td>7</td>\n",
       "      <td></td>\n",
       "    </tr>\n",
       "    <tr>\n",
       "      <th>2</th>\n",
       "      <td>BIAPP1_DWA1P_PROD_RESOURCE_JS1</td>\n",
       "      <td>BIAPP1_DWA1P_MAX</td>\n",
       "      <td></td>\n",
       "      <td>7</td>\n",
       "      <td></td>\n",
       "    </tr>\n",
       "  </tbody>\n",
       "</table>\n",
       "</div>"
      ],
      "text/plain": [
       "                    PARENT_FOLDER                     FOLDER_NAME       RBC  \\\n",
       "0  BIAPP1_DWA1P_PROD_RESOURCE_JS1  BIAPP1_DWA1P_PROD_RESOURCE_JS1  EVERYDAY   \n",
       "1  BIAPP1_DWA1P_PROD_RESOURCE_JS1                BIAPP1_DWA1P_MIN             \n",
       "2  BIAPP1_DWA1P_PROD_RESOURCE_JS1                BIAPP1_DWA1P_MAX             \n",
       "\n",
       "   MAXWAIT max  \n",
       "0        7   7  \n",
       "1        7      \n",
       "2        7      "
      ]
     },
     "execution_count": 15,
     "metadata": {},
     "output_type": "execute_result"
    }
   ],
   "source": [
    "data_"
   ]
  },
  {
   "cell_type": "code",
   "execution_count": 19,
   "id": "636e9acf",
   "metadata": {},
   "outputs": [],
   "source": [
    "data_[\"em\"]=[\"\"]*len(data_.index)"
   ]
  },
  {
   "cell_type": "code",
   "execution_count": 20,
   "id": "94145d5f",
   "metadata": {},
   "outputs": [
    {
     "data": {
      "text/html": [
       "<div>\n",
       "<style scoped>\n",
       "    .dataframe tbody tr th:only-of-type {\n",
       "        vertical-align: middle;\n",
       "    }\n",
       "\n",
       "    .dataframe tbody tr th {\n",
       "        vertical-align: top;\n",
       "    }\n",
       "\n",
       "    .dataframe thead th {\n",
       "        text-align: right;\n",
       "    }\n",
       "</style>\n",
       "<table border=\"1\" class=\"dataframe\">\n",
       "  <thead>\n",
       "    <tr style=\"text-align: right;\">\n",
       "      <th></th>\n",
       "      <th>PARENT_FOLDER</th>\n",
       "      <th>FOLDER_NAME</th>\n",
       "      <th>RBC</th>\n",
       "      <th>MAXWAIT</th>\n",
       "      <th>max</th>\n",
       "      <th>em</th>\n",
       "    </tr>\n",
       "  </thead>\n",
       "  <tbody>\n",
       "    <tr>\n",
       "      <th>0</th>\n",
       "      <td>BIAPP1_DWA1P_PROD_RESOURCE_JS1</td>\n",
       "      <td>BIAPP1_DWA1P_PROD_RESOURCE_JS1</td>\n",
       "      <td>EVERYDAY</td>\n",
       "      <td>7</td>\n",
       "      <td>7</td>\n",
       "      <td></td>\n",
       "    </tr>\n",
       "    <tr>\n",
       "      <th>1</th>\n",
       "      <td>BIAPP1_DWA1P_PROD_RESOURCE_JS1</td>\n",
       "      <td>BIAPP1_DWA1P_MIN</td>\n",
       "      <td></td>\n",
       "      <td>7</td>\n",
       "      <td></td>\n",
       "      <td></td>\n",
       "    </tr>\n",
       "    <tr>\n",
       "      <th>2</th>\n",
       "      <td>BIAPP1_DWA1P_PROD_RESOURCE_JS1</td>\n",
       "      <td>BIAPP1_DWA1P_MAX</td>\n",
       "      <td></td>\n",
       "      <td>7</td>\n",
       "      <td></td>\n",
       "      <td></td>\n",
       "    </tr>\n",
       "  </tbody>\n",
       "</table>\n",
       "</div>"
      ],
      "text/plain": [
       "                    PARENT_FOLDER                     FOLDER_NAME       RBC  \\\n",
       "0  BIAPP1_DWA1P_PROD_RESOURCE_JS1  BIAPP1_DWA1P_PROD_RESOURCE_JS1  EVERYDAY   \n",
       "1  BIAPP1_DWA1P_PROD_RESOURCE_JS1                BIAPP1_DWA1P_MIN             \n",
       "2  BIAPP1_DWA1P_PROD_RESOURCE_JS1                BIAPP1_DWA1P_MAX             \n",
       "\n",
       "   MAXWAIT max em  \n",
       "0        7   7     \n",
       "1        7         \n",
       "2        7         "
      ]
     },
     "execution_count": 20,
     "metadata": {},
     "output_type": "execute_result"
    }
   ],
   "source": [
    "data_"
   ]
  },
  {
   "cell_type": "code",
   "execution_count": null,
   "id": "07cc37ff",
   "metadata": {},
   "outputs": [],
   "source": []
  }
 ],
 "metadata": {
  "kernelspec": {
   "display_name": "Python 3",
   "language": "python",
   "name": "python3"
  },
  "language_info": {
   "codemirror_mode": {
    "name": "ipython",
    "version": 3
   },
   "file_extension": ".py",
   "mimetype": "text/x-python",
   "name": "python",
   "nbconvert_exporter": "python",
   "pygments_lexer": "ipython3",
   "version": "3.8.8"
  }
 },
 "nbformat": 4,
 "nbformat_minor": 5
}
