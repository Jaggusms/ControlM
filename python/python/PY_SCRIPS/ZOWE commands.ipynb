{
 "cells": [
  {
   "cell_type": "code",
   "execution_count": 1,
   "id": "df8ff6f1",
   "metadata": {},
   "outputs": [
    {
     "name": "stdout",
     "output_type": "stream",
     "text": [
      "Enter the name of Cross work file: Crossworkfile\n",
      "Enter the name of Migration File: MigrationFile\n",
      "success\n"
     ]
    }
   ],
   "source": [
    "import pandas as pd\n",
    "cros_work_file=input(\"Enter the name of Cross work file: \")+\".csv\"\n",
    "Migatrion_file=input(\"Enter the name of Migration File: \")+\".csv\"\n",
    "df1 =pd.read_csv(cros_work_file).fillna(\"na\")\n",
    "for i in df1.columns:\n",
    "    df1[i]=df1[i].str.strip()\n",
    "    \n",
    "RITM_Data =pd.read_csv(Migatrion_file).fillna(\"na_\")\n",
    "RITM=RITM_Data[list(RITM_Data.columns)[0]].loc[0]\n",
    "\n",
    "df2 = pd.read_csv(Migatrion_file, header=2).fillna(\"na\").iloc[:,:3]\n",
    "for i in df2.columns:\n",
    "    df2[i]=df2[i].str.strip()\n",
    "\n",
    "common1 = df2.merge(df1,on=['Promotion Rule'])\n",
    "common2 = df1.merge(df2,on=['Promotion Rule'])\n",
    "data1=df2[(~df2['Promotion Rule'].isin(common1['Promotion Rule']))].reset_index().iloc[:,1:]\n",
    "data2=df1[(~df1['Promotion Rule'].isin(common2['Promotion Rule']))].reset_index().iloc[:,1:]\n",
    "df = pd.merge(df2, df1, on='Promotion Rule', how='inner')\n",
    "df=df.drop_duplicates().reset_index()\n",
    "\n",
    "columns=list(df.columns)[1:]\n",
    "d=df.iloc[df[df[columns[2]].str.contains('Move',case=False)].index.tolist(),1:]    \n",
    "df3=d.reset_index().iloc[:,1:]\n",
    "l=[]\n",
    "for data,row in df3.iterrows():\n",
    "    appl,SourcCrosswalk,environment_1,application,Promotion=df3[columns[0]].loc[0],df3[columns[3]].loc[0],SourcCrosswalk.split(\".\")[4],SourcCrosswalk.split(\".\")[3],df3[columns[1]].loc[0]\n",
    "    l.append('zowe endevor move element {1} --env SUPP -- {2} --sub  {3} --typ APPL --sn 1 --ccid {0} --com \"{4} August Demo\" --sync'.format(RITM,appl,application,environment_1,Promotion))     \n",
    "d=df.iloc[df[df[columns[2]].str.contains('Add',case=False)].index.tolist(),1:]   \n",
    "df3=d.reset_index().iloc[:,1:]\n",
    "for data,row in df3.iterrows():\n",
    "    appl,SourcCrosswalk,environment,application=df3[columns[0]].loc[0],df3[columns[3]].loc[0],SourcCrosswalk.split(\".\")[4],SourcCrosswalk.split(\".\")[3]\n",
    "    l.append('zowe endevor add element {1} --env SUPP --sys {3} --sub {4} --typ APPL --fd {2}  --fm {1} --os --ccid {0} --com \"<< Default#>>test file add\" --g'.format(RITM,appl,SourcCrosswalk,application,environment))\n",
    "d=df.iloc[df[df[columns[2]].str.contains('Transfer',case=False)].index.tolist(),1:]   \n",
    "df3=d.reset_index().iloc[:,1:]\n",
    "for data,row in df3.iterrows():\n",
    "    appl=df3[columns[0]].loc[0]\n",
    "    SourcCrosswalk=df3[columns[3]].loc[0]\n",
    "    environment_1=df3[columns[4]].loc[0]\n",
    "    environment_1=environment_1.split(\".\")[4]\n",
    "    environment=SourcCrosswalk.split(\".\")[4]\n",
    "    application=SourcCrosswalk.split(\".\")[3]\n",
    "    Promotion=df3[columns[1]].loc[0]\n",
    "    l.append('zowe endevor transfer element {1} --env SUPP --sys {4} --sub {2} --typ APPL --sn 1 --ccid {0} --com \"{5}August Demo\" --toenv SUPP --tosys {4} --tosub {3} --toele {1} --totyp APPL --tosn 1 --sync'.format(RITM,appl,environment,environment_1,application,Promotion))   \n",
    "\n",
    "    \n",
    "data1.to_csv(\"missed_Migaration.csv\", index=False)\n",
    "data2.to_csv(\"missed_Crosswork.csv\", index=False)\n",
    "with open('readme.txt', 'w') as f:\n",
    "    for line in l:\n",
    "        f.write(line)\n",
    "        f.write('\\n')\n",
    "print(\"success\")"
   ]
  },
  {
   "cell_type": "code",
   "execution_count": null,
   "id": "a37a90b7",
   "metadata": {},
   "outputs": [],
   "source": []
  }
 ],
 "metadata": {
  "kernelspec": {
   "display_name": "Python 3",
   "language": "python",
   "name": "python3"
  },
  "language_info": {
   "codemirror_mode": {
    "name": "ipython",
    "version": 3
   },
   "file_extension": ".py",
   "mimetype": "text/x-python",
   "name": "python",
   "nbconvert_exporter": "python",
   "pygments_lexer": "ipython3",
   "version": "3.8.8"
  }
 },
 "nbformat": 4,
 "nbformat_minor": 5
}
