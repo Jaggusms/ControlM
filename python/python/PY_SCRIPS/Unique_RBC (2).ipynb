{
 "cells": [
  {
   "cell_type": "code",
   "execution_count": 1,
   "id": "7a4adfed",
   "metadata": {},
   "outputs": [
    {
     "name": "stdout",
     "output_type": "stream",
     "text": [
      "enter the name of xml file:ControlM_Wave3_xml\n",
      "enter the output file name: ControlM_Wave3_xml\n"
     ]
    },
    {
     "name": "stderr",
     "output_type": "stream",
     "text": [
      "<ipython-input-1-047c9dab5380>:34: SettingWithCopyWarning: \n",
      "A value is trying to be set on a copy of a slice from a DataFrame\n",
      "\n",
      "See the caveats in the documentation: https://pandas.pydata.org/pandas-docs/stable/user_guide/indexing.html#returning-a-view-versus-a-copy\n",
      "  df2.drop_duplicates(keep=\"first\", inplace=True)\n",
      "<ipython-input-1-047c9dab5380>:35: SettingWithCopyWarning: \n",
      "A value is trying to be set on a copy of a slice from a DataFrame\n",
      "\n",
      "See the caveats in the documentation: https://pandas.pydata.org/pandas-docs/stable/user_guide/indexing.html#returning-a-view-versus-a-copy\n",
      "  df4.drop_duplicates(subset='Defintion', keep=\"first\", inplace=True)\n"
     ]
    },
    {
     "name": "stdout",
     "output_type": "stream",
     "text": [
      "success\n"
     ]
    }
   ],
   "source": [
    "m=input(\"enter the name of xml file:\")\n",
    "output=input('enter the output file name: ')+'.xlsx'\n",
    "import xml.etree.ElementTree as et\n",
    "parsexml=et.parse(m+'.xml')\n",
    "root=parsexml.getroot()\n",
    "data=[[ 'FOLDER_NAME','Rule based calendar Name','Defintion','MAXWAIT','ACTIVE_FROM','ACTIVE_TILL']]    \n",
    "for r in root:\n",
    "    k=list(r.attrib.keys()).index('FOLDER_NAME')\n",
    "    v=list(r.attrib.values())[k]\n",
    "    RBC=r.findall('RULE_BASED_CALENDAR')\n",
    "    for a in RBC:\n",
    "        key=list(a.attrib.keys())\n",
    "        value=list(a.attrib.values())\n",
    "        if \"ACTIVE_FROM\" in key and \"ACTIVE_TILL\" in key:\n",
    "            s=['{0}=\"{1}\"'.format(key[i],value[i]) for i in range(1,len(key))]\n",
    "            data.append([v,value[0],\" \".join(s[1:-3]),s[0],s[-3],s[-2]])  \n",
    "        if \"ACTIVE_FROM\" in key and \"ACTIVE_TILL\"  not in key:\n",
    "            s=['{0}=\"{1}\"'.format(key[i],value[i]) for i in range(1,len(key))]\n",
    "            data.append([v,value[0],\" \".join(s[1:-2]),s[0],s[-2],''])\n",
    "        if \"ACTIVE_FROM\" not in key and \"ACTIVE_TILL\" in key:\n",
    "            s=['{0}=\"{1}\"'.format(key[i],value[i]) for i in range(1,len(key))]\n",
    "            data.append([v,value[0],\" \".join(s[1:-2]),s[0],'',s[-2]])\n",
    "        if \"ACTIVE_FROM\" not in key and \"ACTIVE_TILL\" not in key:\n",
    "            s=['{0}=\"{1}\"'.format(key[i],value[i]) for i in range(1,len(key))]\n",
    "            data.append([v,value[0],\" \".join(s[1:-1]),s[0],'',''])  \n",
    "\n",
    "\n",
    "import pandas as pd\n",
    "df1 = pd.DataFrame(columns=data[0], data=data[1:])\n",
    "df2=df1.iloc[:,1:3]\n",
    "df3=df1.iloc[:,2]\n",
    "df4=df1.iloc[:,0:3:2]\n",
    "df3.drop_duplicates(keep=\"first\", inplace=True)\n",
    "df2.drop_duplicates(keep=\"first\", inplace=True)\n",
    "df4.drop_duplicates(subset='Defintion', keep=\"first\", inplace=True)\n",
    "with pd.ExcelWriter(output) as writer:\n",
    "    df1.to_excel(writer, sheet_name='output',index=False)\n",
    "    df2.to_excel(writer, sheet_name='unique_RBC_Definition',index=False)\n",
    "    df3.to_excel(writer, sheet_name='unique_Definition',index=False)\n",
    "    df4.to_excel(writer, sheet_name='unique_Definition_their_Folder',index=False)\n",
    "print(\"success\") \n"
   ]
  },
  {
   "cell_type": "code",
   "execution_count": 6,
   "id": "1b64b2a0",
   "metadata": {},
   "outputs": [
    {
     "data": {
      "text/plain": [
       "30"
      ]
     },
     "execution_count": 6,
     "metadata": {},
     "output_type": "execute_result"
    }
   ],
   "source": [
    "len('unique_Definition_their_Folder')"
   ]
  },
  {
   "cell_type": "code",
   "execution_count": null,
   "id": "d0b25288",
   "metadata": {},
   "outputs": [],
   "source": []
  }
 ],
 "metadata": {
  "kernelspec": {
   "display_name": "Python 3",
   "language": "python",
   "name": "python3"
  },
  "language_info": {
   "codemirror_mode": {
    "name": "ipython",
    "version": 3
   },
   "file_extension": ".py",
   "mimetype": "text/x-python",
   "name": "python",
   "nbconvert_exporter": "python",
   "pygments_lexer": "ipython3",
   "version": "3.8.8"
  }
 },
 "nbformat": 4,
 "nbformat_minor": 5
}
