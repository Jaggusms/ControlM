{
 "cells": [
  {
   "cell_type": "code",
   "execution_count": 38,
   "id": "a65c6357",
   "metadata": {},
   "outputs": [
    {
     "name": "stdout",
     "output_type": "stream",
     "text": [
      "enter the Text file: dx\n",
      "success\n"
     ]
    }
   ],
   "source": [
    "import time\n",
    "start_time = time.time()\n",
    "input_file=input(\"enter the Text file: \")+\".txt\"\n",
    "l=()\n",
    "with open(input_file,'r') as f:\n",
    "    data=f.readlines()\n",
    "    count=()\n",
    "    for i,line in enumerate(data):\n",
    "        if \"/*\" not in line and i in count:\n",
    "            pass\n",
    "        else:\n",
    "            s=\"\"\n",
    "            for j,line1 in enumerate(data[i:]):\n",
    "                if \"/*\" in line1:\n",
    "                    break\n",
    "                s +=line1.strip(\"\\n\")+';'\n",
    "                count +=(i+j,)\n",
    "            l +=(s,)\n",
    "            s=\"\"\n",
    "l=[i.strip() for i in l if i!=\"\"]\n",
    "with open(r'EVENT_STRING.txt', 'w') as fp:\n",
    "    for item in l:\n",
    "        fp.write(\"%s\\n\" % item)\n",
    "\n",
    "l1=()\n",
    "for i in l:\n",
    "    APPL_OLD=i[i.find('.')+1:i.find(\")\")].strip(\"CYC_\")\n",
    "    APPL_NEW=APPL_OLD[:1]+\"D\"+APPL_OLD[2:] if APPL_OLD.startswith('D') else APPL_OLD\n",
    "    s=i.replace(\"ES400DP\",'ES700DD').replace(\"SDM4\",\"SDM7\").replace(\"ESPP.ES4M.EDA.DX.PROD\",\"ESPP.ES7M.EDA.DX.DEV\").replace(APPL_OLD,APPL_NEW)\n",
    "    if \"CALENDAR SYSTEM\" not in i:\n",
    "        l1 +=(s,)\n",
    "    else:\n",
    "        if \"CALENDAR SYSTEM; EXPECT\" in i:\n",
    "            l1 +=(s,)\n",
    "        else:\n",
    "            s=s[:s.find(\"CALENDAR SYSTEM; \")+len('CALENDAR SYSTEM; ')]+\"EXPECT\"+s[s.find(\"CALENDAR SYSTEM; \")+len('CALENDAR SYSTEM; '):]\n",
    "            l1 +=(s,)\n",
    "with open(r'EVENT_STRING_DEV1.txt', 'w') as fp:\n",
    "    for item in l1:\n",
    "        fp.write(\"%s\\n\" % item)\n",
    "print('success')"
   ]
  },
  {
   "cell_type": "code",
   "execution_count": null,
   "id": "027a9cb4",
   "metadata": {},
   "outputs": [],
   "source": []
  },
  {
   "cell_type": "code",
   "execution_count": null,
   "id": "9f96532e",
   "metadata": {},
   "outputs": [],
   "source": []
  },
  {
   "cell_type": "code",
   "execution_count": null,
   "id": "b102186c",
   "metadata": {},
   "outputs": [],
   "source": [
    "import time\n",
    "start_time = time.time()\n",
    "input_file=input(\"enter the Text file: \")+\".txt\"\n",
    "l=[]\n",
    "with open(input_file,'r') as f:\n",
    "    data=f.readlines()\n",
    "    count1=0\n",
    "    s=\"\"\n",
    "    for line in data:\n",
    "        if \"/*\" not in line and count1==0:\n",
    "            count1 +=1\n",
    "        if \"/*\" in line:\n",
    "            count1=0\n",
    "            if s!=\"\":\n",
    "                l.append(s.strip())\n",
    "                s=\"\"\n",
    "        if count1 !=0:\n",
    "            s +=line.strip(\"\\n\")+';'\n",
    "with open(r'esp1.txt', 'w') as fp:\n",
    "    for item in l:\n",
    "        fp.write(\"%s\\n\" % item)\n",
    "print(\"--- %s seconds ---\" % (time.time() - start_time))"
   ]
  },
  {
   "cell_type": "code",
   "execution_count": null,
   "id": "489fe5cb",
   "metadata": {},
   "outputs": [],
   "source": []
  },
  {
   "cell_type": "code",
   "execution_count": null,
   "id": "c41e5472",
   "metadata": {},
   "outputs": [],
   "source": []
  },
  {
   "cell_type": "code",
   "execution_count": null,
   "id": "b0d12a68",
   "metadata": {},
   "outputs": [],
   "source": []
  },
  {
   "cell_type": "code",
   "execution_count": null,
   "id": "4335ccc7",
   "metadata": {},
   "outputs": [],
   "source": []
  }
 ],
 "metadata": {
  "kernelspec": {
   "display_name": "Python 3",
   "language": "python",
   "name": "python3"
  },
  "language_info": {
   "codemirror_mode": {
    "name": "ipython",
    "version": 3
   },
   "file_extension": ".py",
   "mimetype": "text/x-python",
   "name": "python",
   "nbconvert_exporter": "python",
   "pygments_lexer": "ipython3",
   "version": "3.8.8"
  }
 },
 "nbformat": 4,
 "nbformat_minor": 5
}
