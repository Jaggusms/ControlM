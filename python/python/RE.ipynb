{
 "cells": [
  {
   "cell_type": "code",
   "execution_count": 1,
   "source": [
    "import re\r\n",
    "s=\"adfvgbf(fvggfgdfv)dsfbg (sdvfbfg)   \"\r\n",
    "re.findall(\"[A-Za-z0-9_]+\",s)\r\n",
    "re.findall(\"\\(([A-Za-z0-9_]+)\\)\",s)\r\n",
    "#re.findall(\"\\(([A-Za-z0-9_]+)\\)\",s)"
   ],
   "outputs": [
    {
     "output_type": "execute_result",
     "data": {
      "text/plain": [
       "['fvggfgdfv', 'sdvfbfg']"
      ]
     },
     "metadata": {},
     "execution_count": 1
    }
   ],
   "metadata": {}
  },
  {
   "cell_type": "code",
   "execution_count": 2,
   "source": [
    "s = \"alpha.Customer[cus_Y4o9qMEZAugtnW] [cus_Y4o9qMEZAugtnW] ...\"\r\n",
    "m = re.findall(r\"\\[([A-Za-z0-9_]+)\\]\", s)\r\n",
    "m"
   ],
   "outputs": [
    {
     "output_type": "execute_result",
     "data": {
      "text/plain": [
       "['cus_Y4o9qMEZAugtnW', 'cus_Y4o9qMEZAugtnW']"
      ]
     },
     "metadata": {},
     "execution_count": 2
    }
   ],
   "metadata": {}
  },
  {
   "cell_type": "code",
   "execution_count": null,
   "source": [
    "if re.findall('(?i)'+str(APLLICATION_TYPE[0]), APPLICATION)  #case sensitive search"
   ],
   "outputs": [],
   "metadata": {}
  }
 ],
 "metadata": {
  "kernelspec": {
   "display_name": "Python 3",
   "language": "python",
   "name": "python3"
  },
  "language_info": {
   "codemirror_mode": {
    "name": "ipython",
    "version": 3
   },
   "file_extension": ".py",
   "mimetype": "text/x-python",
   "name": "python",
   "nbconvert_exporter": "python",
   "pygments_lexer": "ipython3",
   "version": "3.8.8"
  }
 },
 "nbformat": 4,
 "nbformat_minor": 5
}