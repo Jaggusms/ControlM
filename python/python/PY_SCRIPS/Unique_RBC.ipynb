{
 "cells": [
  {
   "cell_type": "code",
   "execution_count": 1,
   "source": [
    "import sys\r\n",
    "m=sys.argv[1]\r\n",
    "output=m+'_Unique_RBC.xlsx'\r\n",
    "import xml.etree.ElementTree as et\r\n",
    "parsexml=et.parse(m+'.xml')\r\n",
    "root=parsexml.getroot()\r\n",
    "data=[[ 'FOLDER_NAME','Rule based calendar Name','Defintion','MAXWAIT','ACTIVE_FROM','ACTIVE_TILL']]    \r\n",
    "for r in root:\r\n",
    "    k=list(r.attrib.keys()).index('FOLDER_NAME')\r\n",
    "    v=list(r.attrib.values())[k]\r\n",
    "    RBC=r.findall('RULE_BASED_CALENDAR')\r\n",
    "    for a in RBC:\r\n",
    "        key=list(a.attrib.keys())\r\n",
    "        value=list(a.attrib.values())\r\n",
    "        if \"ACTIVE_FROM\" in key and \"ACTIVE_TILL\" in key:\r\n",
    "            s=['{0}=\"{1}\"'.format(key[i],value[i]) for i in range(1,len(key))]\r\n",
    "            data.append([v,value[0],\" \".join(s[1:-3]),s[0],s[-3],s[-2]])  \r\n",
    "        if \"ACTIVE_FROM\" in key and \"ACTIVE_TILL\"  not in key:\r\n",
    "            s=['{0}=\"{1}\"'.format(key[i],value[i]) for i in range(1,len(key))]\r\n",
    "            data.append([v,value[0],\" \".join(s[1:-2]),s[0],s[-2],''])\r\n",
    "        if \"ACTIVE_FROM\" not in key and \"ACTIVE_TILL\" in key:\r\n",
    "            s=['{0}=\"{1}\"'.format(key[i],value[i]) for i in range(1,len(key))]\r\n",
    "            data.append([v,value[0],\" \".join(s[1:-2]),s[0],'',s[-2]])\r\n",
    "        if \"ACTIVE_FROM\" not in key and \"ACTIVE_TILL\" not in key:\r\n",
    "            s=['{0}=\"{1}\"'.format(key[i],value[i]) for i in range(1,len(key))]\r\n",
    "            data.append([v,value[0],\" \".join(s[1:-1]),s[0],'',''])  \r\n",
    "\r\n",
    "\r\n",
    "import pandas as pd\r\n",
    "df1 = pd.DataFrame(columns=data[0], data=data[1:])\r\n",
    "df2=df1.iloc[:,1:3]\r\n",
    "df3=df1.iloc[:,2]\r\n",
    "df4=df1.iloc[:,0:3:2]\r\n",
    "df3.drop_duplicates(keep=\"first\", inplace=True)\r\n",
    "df2.drop_duplicates(keep=\"first\", inplace=True)\r\n",
    "df4.drop_duplicates(subset='Defintion', keep=\"first\", inplace=True)\r\n",
    "with pd.ExcelWriter(output) as writer:\r\n",
    "    df1.to_excel(writer, sheet_name='output',index=False)\r\n",
    "    df2.to_excel(writer, sheet_name='unique_RBC_Definition',index=False)\r\n",
    "    df3.to_excel(writer, sheet_name='unique_Definition',index=False)\r\n",
    "    df4.to_excel(writer, sheet_name='unique_Definition_their_Folder',index=False)\r\n",
    "print(\"success\") \r\n"
   ],
   "outputs": [
    {
     "output_type": "stream",
     "name": "stdout",
     "text": [
      "enter the name of xml file:CTM003\n",
      "enter the output file name: CTM003\n"
     ]
    },
    {
     "output_type": "stream",
     "name": "stderr",
     "text": [
      "<ipython-input-1-047c9dab5380>:34: SettingWithCopyWarning: \n",
      "A value is trying to be set on a copy of a slice from a DataFrame\n",
      "\n",
      "See the caveats in the documentation: https://pandas.pydata.org/pandas-docs/stable/user_guide/indexing.html#returning-a-view-versus-a-copy\n",
      "  df2.drop_duplicates(keep=\"first\", inplace=True)\n",
      "<ipython-input-1-047c9dab5380>:35: SettingWithCopyWarning: \n",
      "A value is trying to be set on a copy of a slice from a DataFrame\n",
      "\n",
      "See the caveats in the documentation: https://pandas.pydata.org/pandas-docs/stable/user_guide/indexing.html#returning-a-view-versus-a-copy\n",
      "  df4.drop_duplicates(subset='Defintion', keep=\"first\", inplace=True)\n"
     ]
    },
    {
     "output_type": "stream",
     "name": "stdout",
     "text": [
      "success\n"
     ]
    }
   ],
   "metadata": {}
  },
  {
   "cell_type": "code",
   "execution_count": 6,
   "source": [
    "len('unique_Definition_their_Folder')"
   ],
   "outputs": [
    {
     "output_type": "execute_result",
     "data": {
      "text/plain": [
       "30"
      ]
     },
     "metadata": {},
     "execution_count": 6
    }
   ],
   "metadata": {}
  },
  {
   "cell_type": "code",
   "execution_count": null,
   "source": [],
   "outputs": [],
   "metadata": {}
  }
 ],
 "metadata": {
  "kernelspec": {
   "display_name": "Python 3",
   "language": "python",
   "name": "python3"
  },
  "language_info": {
   "codemirror_mode": {
    "name": "ipython",
    "version": 3
   },
   "file_extension": ".py",
   "mimetype": "text/x-python",
   "name": "python",
   "nbconvert_exporter": "python",
   "pygments_lexer": "ipython3",
   "version": "3.8.8"
  }
 },
 "nbformat": 4,
 "nbformat_minor": 5
}