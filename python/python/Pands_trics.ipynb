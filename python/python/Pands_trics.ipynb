{
 "cells": [
  {
   "cell_type": "code",
   "execution_count": 1,
   "id": "e5a2fb77",
   "metadata": {},
   "outputs": [
    {
     "data": {
      "text/plain": [
       "['fvggfgdfv', 'sdvfbfg']"
      ]
     },
     "execution_count": 1,
     "metadata": {},
     "output_type": "execute_result"
    }
   ],
   "source": [
    "import re\n",
    "s=\"adfvgbf(fvggfgdfv)dsfbg (sdvfbfg)   \"\n",
    "re.findall(\"[A-Za-z0-9_]+\",s)\n",
    "re.findall(\"\\(([A-Za-z0-9_]+)\\)\",s)\n",
    "#re.findall(\"\\(([A-Za-z0-9_]+)\\)\",s)"
   ]
  },
  {
   "cell_type": "code",
   "execution_count": 2,
   "id": "e6753616",
   "metadata": {},
   "outputs": [
    {
     "data": {
      "text/plain": [
       "['cus_Y4o9qMEZAugtnW', 'cus_Y4o9qMEZAugtnW']"
      ]
     },
     "execution_count": 2,
     "metadata": {},
     "output_type": "execute_result"
    }
   ],
   "source": [
    "s = \"alpha.Customer[cus_Y4o9qMEZAugtnW] [cus_Y4o9qMEZAugtnW] ...\"\n",
    "m = re.findall(r\"\\[([A-Za-z0-9_]+)\\]\", s)\n",
    "m"
   ]
  },
  {
   "cell_type": "code",
   "execution_count": null,
   "id": "41ed441f",
   "metadata": {},
   "outputs": [],
   "source": []
  }
 ],
 "metadata": {
  "kernelspec": {
   "display_name": "Python 3",
   "language": "python",
   "name": "python3"
  },
  "language_info": {
   "codemirror_mode": {
    "name": "ipython",
    "version": 3
   },
   "file_extension": ".py",
   "mimetype": "text/x-python",
   "name": "python",
   "nbconvert_exporter": "python",
   "pygments_lexer": "ipython3",
   "version": "3.8.8"
  }
 },
 "nbformat": 4,
 "nbformat_minor": 5
}
