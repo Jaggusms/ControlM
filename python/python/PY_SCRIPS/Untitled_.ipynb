{
 "cells": [
  {
   "cell_type": "code",
   "execution_count": null,
   "id": "28572bd3",
   "metadata": {},
   "outputs": [],
   "source": [
    "import os\n",
    "folder= os.getcwd()\n",
    "subfolders =os.walk(folder)\n",
    "for i in subfolders:\n",
    "    print(i)"
   ]
  },
  {
   "cell_type": "code",
   "execution_count": null,
   "id": "6df67336",
   "metadata": {},
   "outputs": [],
   "source": []
  },
  {
   "cell_type": "code",
   "execution_count": null,
   "id": "c3d5f5a0",
   "metadata": {},
   "outputs": [],
   "source": []
  },
  {
   "cell_type": "code",
   "execution_count": null,
   "id": "b62b3c16",
   "metadata": {},
   "outputs": [],
   "source": []
  },
  {
   "cell_type": "code",
   "execution_count": null,
   "id": "bc1c5323",
   "metadata": {},
   "outputs": [],
   "source": []
  },
  {
   "cell_type": "code",
   "execution_count": null,
   "id": "d41f35b9",
   "metadata": {},
   "outputs": [],
   "source": []
  },
  {
   "cell_type": "code",
   "execution_count": null,
   "id": "0b1ab0bb",
   "metadata": {},
   "outputs": [],
   "source": []
  },
  {
   "cell_type": "code",
   "execution_count": 110,
   "id": "f12baeb0",
   "metadata": {},
   "outputs": [
    {
     "name": "stdout",
     "output_type": "stream",
     "text": [
      "0\n",
      "1\n"
     ]
    }
   ],
   "source": [
    "for i in range(2):\n",
    "    while True:\n",
    "        print(i)\n",
    "        break"
   ]
  },
  {
   "cell_type": "code",
   "execution_count": null,
   "id": "a3b4cd61",
   "metadata": {},
   "outputs": [],
   "source": []
  },
  {
   "cell_type": "code",
   "execution_count": null,
   "id": "80d16c5f",
   "metadata": {},
   "outputs": [],
   "source": []
  },
  {
   "cell_type": "code",
   "execution_count": null,
   "id": "0f440aab",
   "metadata": {},
   "outputs": [],
   "source": []
  },
  {
   "cell_type": "code",
   "execution_count": null,
   "id": "8d77e977",
   "metadata": {},
   "outputs": [],
   "source": []
  },
  {
   "cell_type": "code",
   "execution_count": null,
   "id": "1c817097",
   "metadata": {},
   "outputs": [],
   "source": []
  },
  {
   "cell_type": "code",
   "execution_count": null,
   "id": "fa3fb606",
   "metadata": {},
   "outputs": [],
   "source": []
  },
  {
   "cell_type": "code",
   "execution_count": null,
   "id": "b182e88b",
   "metadata": {},
   "outputs": [],
   "source": []
  },
  {
   "cell_type": "code",
   "execution_count": null,
   "id": "39a780e4",
   "metadata": {},
   "outputs": [],
   "source": []
  },
  {
   "cell_type": "code",
   "execution_count": null,
   "id": "c3507441",
   "metadata": {},
   "outputs": [],
   "source": []
  },
  {
   "cell_type": "code",
   "execution_count": null,
   "id": "0ca6c80b",
   "metadata": {},
   "outputs": [],
   "source": []
  },
  {
   "cell_type": "code",
   "execution_count": null,
   "id": "88882adb",
   "metadata": {},
   "outputs": [],
   "source": []
  },
  {
   "cell_type": "code",
   "execution_count": 79,
   "id": "d88cb5af",
   "metadata": {},
   "outputs": [
    {
     "data": {
      "text/html": [
       "<div>\n",
       "<style scoped>\n",
       "    .dataframe tbody tr th:only-of-type {\n",
       "        vertical-align: middle;\n",
       "    }\n",
       "\n",
       "    .dataframe tbody tr th {\n",
       "        vertical-align: top;\n",
       "    }\n",
       "\n",
       "    .dataframe thead th {\n",
       "        text-align: right;\n",
       "    }\n",
       "</style>\n",
       "<table border=\"1\" class=\"dataframe\">\n",
       "  <thead>\n",
       "    <tr style=\"text-align: right;\">\n",
       "      <th></th>\n",
       "      <th>Column1</th>\n",
       "      <th>Column2</th>\n",
       "      <th>Column3</th>\n",
       "      <th>Column4</th>\n",
       "    </tr>\n",
       "  </thead>\n",
       "  <tbody>\n",
       "    <tr>\n",
       "      <th>0</th>\n",
       "      <td>2</td>\n",
       "      <td>25</td>\n",
       "      <td>8</td>\n",
       "      <td>4</td>\n",
       "    </tr>\n",
       "    <tr>\n",
       "      <th>1</th>\n",
       "      <td>5</td>\n",
       "      <td>9</td>\n",
       "      <td>5</td>\n",
       "      <td>5</td>\n",
       "    </tr>\n",
       "    <tr>\n",
       "      <th>2</th>\n",
       "      <td>1</td>\n",
       "      <td>7</td>\n",
       "      <td>3</td>\n",
       "      <td>7</td>\n",
       "    </tr>\n",
       "    <tr>\n",
       "      <th>3</th>\n",
       "      <td>4</td>\n",
       "      <td>4</td>\n",
       "      <td>30</td>\n",
       "      <td>9</td>\n",
       "    </tr>\n",
       "  </tbody>\n",
       "</table>\n",
       "</div>"
      ],
      "text/plain": [
       "   Column1  Column2  Column3  Column4\n",
       "0        2       25        8        4\n",
       "1        5        9        5        5\n",
       "2        1        7        3        7\n",
       "3        4        4       30        9"
      ]
     },
     "metadata": {},
     "output_type": "display_data"
    },
    {
     "data": {
      "text/html": [
       "<div>\n",
       "<style scoped>\n",
       "    .dataframe tbody tr th:only-of-type {\n",
       "        vertical-align: middle;\n",
       "    }\n",
       "\n",
       "    .dataframe tbody tr th {\n",
       "        vertical-align: top;\n",
       "    }\n",
       "\n",
       "    .dataframe thead th {\n",
       "        text-align: right;\n",
       "    }\n",
       "</style>\n",
       "<table border=\"1\" class=\"dataframe\">\n",
       "  <thead>\n",
       "    <tr style=\"text-align: right;\">\n",
       "      <th></th>\n",
       "      <th>Column1</th>\n",
       "      <th>Column2</th>\n",
       "      <th>Column3</th>\n",
       "      <th>Column4</th>\n",
       "    </tr>\n",
       "  </thead>\n",
       "  <tbody>\n",
       "    <tr>\n",
       "      <th>0</th>\n",
       "      <td>3</td>\n",
       "      <td>4</td>\n",
       "      <td>10</td>\n",
       "      <td>25</td>\n",
       "    </tr>\n",
       "    <tr>\n",
       "      <th>1</th>\n",
       "      <td>4</td>\n",
       "      <td>4</td>\n",
       "      <td>30</td>\n",
       "      <td>9</td>\n",
       "    </tr>\n",
       "    <tr>\n",
       "      <th>2</th>\n",
       "      <td>1</td>\n",
       "      <td>7</td>\n",
       "      <td>3</td>\n",
       "      <td>7</td>\n",
       "    </tr>\n",
       "    <tr>\n",
       "      <th>3</th>\n",
       "      <td>5</td>\n",
       "      <td>9</td>\n",
       "      <td>5</td>\n",
       "      <td>5</td>\n",
       "    </tr>\n",
       "    <tr>\n",
       "      <th>4</th>\n",
       "      <td>2</td>\n",
       "      <td>25</td>\n",
       "      <td>8</td>\n",
       "      <td>4</td>\n",
       "    </tr>\n",
       "  </tbody>\n",
       "</table>\n",
       "</div>"
      ],
      "text/plain": [
       "   Column1  Column2  Column3  Column4\n",
       "0        3        4       10       25\n",
       "1        4        4       30        9\n",
       "2        1        7        3        7\n",
       "3        5        9        5        5\n",
       "4        2       25        8        4"
      ]
     },
     "metadata": {},
     "output_type": "display_data"
    },
    {
     "data": {
      "text/plain": [
       "0    25\n",
       "1     9\n",
       "2     7\n",
       "3     5\n",
       "4     4\n",
       "Name: Column4, dtype: int64"
      ]
     },
     "metadata": {},
     "output_type": "display_data"
    },
    {
     "data": {
      "text/plain": [
       "0    25\n",
       "1     9\n",
       "2     7\n",
       "3     4\n",
       "Name: Column2, dtype: int64"
      ]
     },
     "metadata": {},
     "output_type": "display_data"
    },
    {
     "data": {
      "text/plain": [
       "False"
      ]
     },
     "execution_count": 79,
     "metadata": {},
     "output_type": "execute_result"
    }
   ],
   "source": [
    "# importing libraries\n",
    "import pandas as pd\n",
    "\n",
    "# Storing data in dictionary\n",
    "details = {\n",
    "\t'Column1': [1, 2, 3, 4,5],\n",
    "\t'Column2': [7, 25, 4,4, 9],\n",
    "\t'Column3': [3, 8, 10, 30,5],\n",
    "\t'Column4': [7, 4, 25, 9,5],\n",
    "}\n",
    "\n",
    "# creating a Dataframe object\n",
    "df = pd.DataFrame(details)\n",
    "df1=df.sort_values(by=['Column4']).reset_index().iloc[:,1:].drop_duplicates(subset=\"Column2\")\n",
    "display(df1)\n",
    "df2=df.sort_values(by=['Column2']).reset_index().iloc[:,1:]\n",
    "display(df2)\n",
    "display(df2['Column4'])\n",
    "display(df1['Column2'])\n",
    "df2['Column4'].equals(df1['Column2']) # Returns True\n",
    "\n",
    "# df['Column1'].equals(df['Column2']) Returns False\n"
   ]
  },
  {
   "cell_type": "code",
   "execution_count": 22,
   "id": "86dfb0ea",
   "metadata": {},
   "outputs": [
    {
     "name": "stdout",
     "output_type": "stream",
     "text": [
      "<DirEntry 'SS_MIG_EDS_CTM_IR'>\n"
     ]
    }
   ],
   "source": [
    "import os\n",
    " \n",
    "rootdir = os.getcwd()\n",
    "for it in os.scandir(rootdir):\n",
    "    if it.is_dir() and it.path.split('\\\\')[-1] ==\"SS_MIG_EDS_CTM_IR\":\n",
    "        print(it)\n",
    "        "
   ]
  },
  {
   "cell_type": "code",
   "execution_count": 107,
   "id": "3eb323de",
   "metadata": {},
   "outputs": [
    {
     "data": {
      "text/html": [
       "<div>\n",
       "<style scoped>\n",
       "    .dataframe tbody tr th:only-of-type {\n",
       "        vertical-align: middle;\n",
       "    }\n",
       "\n",
       "    .dataframe tbody tr th {\n",
       "        vertical-align: top;\n",
       "    }\n",
       "\n",
       "    .dataframe thead th {\n",
       "        text-align: right;\n",
       "    }\n",
       "</style>\n",
       "<table border=\"1\" class=\"dataframe\">\n",
       "  <thead>\n",
       "    <tr style=\"text-align: right;\">\n",
       "      <th></th>\n",
       "      <th>CTM Folder Name/Pattern</th>\n",
       "      <th>Promotion Rule</th>\n",
       "    </tr>\n",
       "  </thead>\n",
       "  <tbody>\n",
       "    <tr>\n",
       "      <th>0</th>\n",
       "      <td>BI_INF_UAT_MDLR_ACKEMAIL_WKLY_JS1</td>\n",
       "      <td>EDMUAT-TO-EDMIR</td>\n",
       "    </tr>\n",
       "  </tbody>\n",
       "</table>\n",
       "</div>"
      ],
      "text/plain": [
       "             CTM Folder Name/Pattern   Promotion Rule\n",
       "0  BI_INF_UAT_MDLR_ACKEMAIL_WKLY_JS1  EDMUAT-TO-EDMIR"
      ]
     },
     "metadata": {},
     "output_type": "display_data"
    },
    {
     "data": {
      "text/html": [
       "<div>\n",
       "<style scoped>\n",
       "    .dataframe tbody tr th:only-of-type {\n",
       "        vertical-align: middle;\n",
       "    }\n",
       "\n",
       "    .dataframe tbody tr th {\n",
       "        vertical-align: top;\n",
       "    }\n",
       "\n",
       "    .dataframe thead th {\n",
       "        text-align: right;\n",
       "    }\n",
       "</style>\n",
       "<table border=\"1\" class=\"dataframe\">\n",
       "  <thead>\n",
       "    <tr style=\"text-align: right;\">\n",
       "      <th></th>\n",
       "      <th>CTM Folder Name/Pattern</th>\n",
       "      <th>Promotion Rule</th>\n",
       "    </tr>\n",
       "  </thead>\n",
       "  <tbody>\n",
       "    <tr>\n",
       "      <th>0</th>\n",
       "      <td>BI_INFUAT_MDLR_ACKEMAIL_WKLY_JS1</td>\n",
       "      <td>NaN</td>\n",
       "    </tr>\n",
       "    <tr>\n",
       "      <th>1</th>\n",
       "      <td>BI_INF_UAT_MDL_ACKEMAIL_WKLY_JS1</td>\n",
       "      <td>EDMUAT-TO-EDMIR</td>\n",
       "    </tr>\n",
       "  </tbody>\n",
       "</table>\n",
       "</div>"
      ],
      "text/plain": [
       "            CTM Folder Name/Pattern   Promotion Rule\n",
       "0  BI_INFUAT_MDLR_ACKEMAIL_WKLY_JS1              NaN\n",
       "1  BI_INF_UAT_MDL_ACKEMAIL_WKLY_JS1  EDMUAT-TO-EDMIR"
      ]
     },
     "metadata": {},
     "output_type": "display_data"
    }
   ],
   "source": [
    "import os\n",
    "import pandas as pd \n",
    "cwd = os.getcwd()\n",
    "SS_MIG_EDS_CTM_IR=[]\n",
    "SS_MIG_EDS_CTM_IR_AUTHUSERS=[]\n",
    "SS_MIG_EDS_CTM_IR_log=[]\n",
    "SS_MIG_EDS_CTM_IR_PROCESSED=[]\n",
    "for rootdir, dirs, files in os.walk(cwd):\n",
    "    if rootdir.split('\\\\')[-1] ==\"SS_MIG_EDS_CTM_IR\":\n",
    "        for file in files:\n",
    "            SS_MIG_EDS_CTM_IR.append(file)\n",
    "    if rootdir.split('\\\\')[-1] ==\"SS_MIG_EDS_CTM_IR_AUTHUSERS\":\n",
    "        for file in files:\n",
    "            SS_MIG_EDS_CTM_IR_AUTHUSERS.append(file)\n",
    "    if rootdir.split('\\\\')[-1] ==\"SS_MIG_EDS_CTM_IR_log\":\n",
    "        for file in files:\n",
    "            SS_MIG_EDS_CTM_IR_log.append(file)\n",
    "    if rootdir.split('\\\\')[-1] ==\"SS_MIG_EDS_CTM_IR_PROCESSED\":\n",
    "        for file in files:\n",
    "            SS_MIG_EDS_CTM_IR_PROCESSED.append(file)\n",
    "for i in SS_MIG_EDS_CTM_IR:\n",
    "    if i in SS_MIG_EDS_CTM_IR_AUTHUSERS:\n",
    "        data_IR=pd.read_csv(os.path.join(cwd+\"\\\\SS_MIG_EDS_CTM_IR\\\\\",i),header=2,usecols=[0,1] ).drop_duplicates(subset=data_IR.columns[0], keep=\"first\")\n",
    "        data_auth=pd.read_csv(os.path.join(cwd+\"\\\\SS_MIG_EDS_CTM_IR_AUTHUSERS\\\\\",i),header=2 ,usecols=[0,1]).drop_duplicates(subset=data_auth.columns[0], keep=\"first\")\n",
    "        match=pd.merge(data_IR[data_IR.columns[0]],data_auth, on=data_IR.columns[0],how='inner')\n",
    "        common1 = data_auth.merge(data_IR,on=data_IR.columns[0])\n",
    "        not_matched1=data_auth[(~data_auth[data_IR.columns[0]].isin(common1[data_IR.columns[0]]))].reset_index().iloc[:,1:]\n",
    "        not_matched2=data_IR[(~data_IR[data_auth.columns[0]].isin(common1[data_IR.columns[0]]))].reset_index().iloc[:,1:]\n",
    "        not_matched = pd.concat([not_matched1,not_matched2]).reset_index().iloc[:,1:]\n",
    "        display(match)\n",
    "        display(not_matched)"
   ]
  },
  {
   "cell_type": "code",
   "execution_count": null,
   "id": "422f254c",
   "metadata": {},
   "outputs": [],
   "source": []
  }
 ],
 "metadata": {
  "kernelspec": {
   "display_name": "Python 3",
   "language": "python",
   "name": "python3"
  },
  "language_info": {
   "codemirror_mode": {
    "name": "ipython",
    "version": 3
   },
   "file_extension": ".py",
   "mimetype": "text/x-python",
   "name": "python",
   "nbconvert_exporter": "python",
   "pygments_lexer": "ipython3",
   "version": "3.8.8"
  }
 },
 "nbformat": 4,
 "nbformat_minor": 5
}
