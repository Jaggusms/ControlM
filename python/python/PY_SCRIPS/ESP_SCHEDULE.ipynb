{
 "cells": [
  {
   "cell_type": "code",
   "execution_count": 8,
   "id": "7a4adfed",
   "metadata": {},
   "outputs": [
    {
     "name": "stdout",
     "output_type": "stream",
     "text": [
      "Enter the ESP Report Text File: 2\n"
     ]
    },
    {
     "data": {
      "application/javascript": [
       "\n",
       "        if (window._pyforest_update_imports_cell) { window._pyforest_update_imports_cell('import pandas as pd'); }\n",
       "    "
      ],
      "text/plain": [
       "<IPython.core.display.Javascript object>"
      ]
     },
     "metadata": {},
     "output_type": "display_data"
    },
    {
     "data": {
      "application/javascript": [
       "\n",
       "        if (window._pyforest_update_imports_cell) { window._pyforest_update_imports_cell('import pandas as pd'); }\n",
       "    "
      ],
      "text/plain": [
       "<IPython.core.display.Javascript object>"
      ]
     },
     "metadata": {},
     "output_type": "display_data"
    },
    {
     "name": "stdout",
     "output_type": "stream",
     "text": [
      "--- 1980.2388803958893 seconds ---\n"
     ]
    }
   ],
   "source": [
    "import time\n",
    "start_time = time.time()\n",
    "ESP=input(\"Enter the ESP Report Text File: \")+\".txt\"\n",
    "import re\n",
    "def out(x,name):\n",
    "    JOBS=[]\n",
    "    JOB_TYPES=['AIX_JOB', 'JOB', 'APPLSTART', 'DBSP_JOB', 'FILE_TRIGGER', 'LINUX_JOB', 'NT_JOB', 'INFORMATICA_JOB', 'SPARK_JOB']\n",
    "    SCHEDULE=[]\n",
    "    APPL_SCHEDULE=\"\"\n",
    "    for i, line in enumerate(x):\n",
    "        for job_type in JOB_TYPES:\n",
    "            if re.findall('^[ ]+'+job_type,line):\n",
    "                JOBS.append(line[line.find(job_type)+len(job_type):-1].strip().split()[0])\n",
    "                SCHEDULE.append(\"\")\n",
    "                for j in x[i:]:\n",
    "                    if re.findall(\"^[ ]+RUN \", j) :\n",
    "                        SCHEDULE[-1]=j[j.find('RUN')+len('RUN '):].strip()\n",
    "                    if re.findall(\"^  ENDJOB\",j):\n",
    "                        break\n",
    "        if re.findall('^  SCHED_RBC',line):\n",
    "            for j in x[i:]:\n",
    "                APPL_SCHEDULE +=j\n",
    "                if re.findall('^  ENDDO',j):\n",
    "                    break\n",
    "    return JOBS,SCHEDULE,APPL_SCHEDULE\n",
    "def APPL_DETAILS(name):\n",
    "    appl=[]\n",
    "    line_number=-1\n",
    "    JOBS=[]\n",
    "    SCHEDULE=[]\n",
    "    APPL_SCHEDULE=\"\"\n",
    "    with open(ESP, 'r') as fp:\n",
    "        original=fp.readlines()\n",
    "        #last_line_number=len(fp.readlines())\n",
    "        for l_no, line in enumerate(original):\n",
    "            if './ ADD    NAME='+ name in line:\n",
    "                line_number=l_no\n",
    "            if './ ADD    NAME=' in line:\n",
    "                appl.append(l_no)\n",
    "        if appl[-1]==line_number and line_number>0:\n",
    "            x = original[line_number+1:]\n",
    "            o=out(x,name)\n",
    "            JOBS =o[0]\n",
    "            SCHEDULE=o[1]\n",
    "            APPL_SCHEDULE=o[2]\n",
    "        if appl[-1]!=line_number and line_number>=0:\n",
    "            next_index=appl[appl.index(line_number)+1]\n",
    "            x = original[line_number:next_index]\n",
    "            o=out(x,name)\n",
    "            JOBS =o[0]\n",
    "            SCHEDULE=o[1]\n",
    "            APPL_SCHEDULE=o[2]\n",
    "    return JOBS,SCHEDULE,APPL_SCHEDULE\n",
    "l=[]\n",
    "with open(ESP, 'r') as fp:\n",
    "    original=fp.readlines()\n",
    "    #last_line_number=len(fp.readlines())\n",
    "    for l_no, line in enumerate(original):\n",
    "        if './ ADD    NAME=' in line:\n",
    "            name=line.strip(\"./ ADD    NAME=\")\n",
    "            name=name.strip()\n",
    "            l.append(name)            \n",
    "esp_df = pd.DataFrame(columns = ['APPL Name', 'Schedule at APPL level', 'Job Name', 'Schedule at JOB level'])\n",
    "for name in l:\n",
    "    APPL_=APPL_DETAILS(name)\n",
    "    for i,a in enumerate(APPL_[0]):\n",
    "        if i==0:\n",
    "            esp_df.loc[len(esp_df.index)]=[name,APPL_[2],a,APPL_[1][i]]\n",
    "        else:\n",
    "            esp_df.loc[len(esp_df.index)]=[name,'',a,APPL_[1][i]]    \n",
    "with pd.ExcelWriter('ESP_SCHEDULE_Output.xlsx') as writer:\n",
    "    esp_df.to_excel(writer, sheet_name='ESP-Schedules',index=False)\n",
    "print(\"--- %s seconds ---\" % (time.time() - start_time))"
   ]
  },
  {
   "cell_type": "code",
   "execution_count": null,
   "id": "fe6067d3",
   "metadata": {},
   "outputs": [],
   "source": []
  },
  {
   "cell_type": "code",
   "execution_count": null,
   "id": "8ae0cf6d",
   "metadata": {},
   "outputs": [],
   "source": []
  },
  {
   "cell_type": "code",
   "execution_count": null,
   "id": "4b32fc18",
   "metadata": {},
   "outputs": [],
   "source": []
  },
  {
   "cell_type": "code",
   "execution_count": 21,
   "id": "ce16ee26",
   "metadata": {},
   "outputs": [],
   "source": []
  },
  {
   "cell_type": "code",
   "execution_count": null,
   "id": "f5792f84",
   "metadata": {},
   "outputs": [],
   "source": []
  },
  {
   "cell_type": "code",
   "execution_count": null,
   "id": "d719dc57",
   "metadata": {},
   "outputs": [],
   "source": []
  },
  {
   "cell_type": "code",
   "execution_count": null,
   "id": "2afe6748",
   "metadata": {},
   "outputs": [],
   "source": []
  },
  {
   "cell_type": "code",
   "execution_count": null,
   "id": "275b02e9",
   "metadata": {},
   "outputs": [],
   "source": []
  },
  {
   "cell_type": "code",
   "execution_count": null,
   "id": "6b368c1e",
   "metadata": {},
   "outputs": [],
   "source": []
  },
  {
   "cell_type": "code",
   "execution_count": null,
   "id": "dba4e49d",
   "metadata": {},
   "outputs": [],
   "source": []
  },
  {
   "cell_type": "code",
   "execution_count": null,
   "id": "9c3cec33",
   "metadata": {},
   "outputs": [],
   "source": []
  },
  {
   "cell_type": "code",
   "execution_count": null,
   "id": "b000ca7a",
   "metadata": {},
   "outputs": [],
   "source": []
  },
  {
   "cell_type": "code",
   "execution_count": null,
   "id": "510cc7be",
   "metadata": {},
   "outputs": [],
   "source": []
  },
  {
   "cell_type": "code",
   "execution_count": null,
   "id": "6e12e232",
   "metadata": {},
   "outputs": [],
   "source": []
  },
  {
   "cell_type": "code",
   "execution_count": null,
   "id": "12a0818f",
   "metadata": {},
   "outputs": [],
   "source": []
  },
  {
   "cell_type": "code",
   "execution_count": null,
   "id": "44968d3b",
   "metadata": {},
   "outputs": [],
   "source": []
  },
  {
   "cell_type": "code",
   "execution_count": null,
   "id": "e46376ea",
   "metadata": {},
   "outputs": [],
   "source": []
  },
  {
   "cell_type": "code",
   "execution_count": null,
   "id": "1b64b2a0",
   "metadata": {},
   "outputs": [],
   "source": []
  },
  {
   "cell_type": "code",
   "execution_count": null,
   "id": "d0b25288",
   "metadata": {},
   "outputs": [],
   "source": []
  },
  {
   "cell_type": "code",
   "execution_count": null,
   "id": "26347796",
   "metadata": {},
   "outputs": [],
   "source": []
  },
  {
   "cell_type": "code",
   "execution_count": null,
   "id": "3c24a3bf",
   "metadata": {},
   "outputs": [],
   "source": []
  },
  {
   "cell_type": "code",
   "execution_count": null,
   "id": "7599a77f",
   "metadata": {},
   "outputs": [],
   "source": []
  },
  {
   "cell_type": "code",
   "execution_count": null,
   "id": "6e1796a3",
   "metadata": {},
   "outputs": [],
   "source": []
  }
 ],
 "metadata": {
  "kernelspec": {
   "display_name": "Python 3",
   "language": "python",
   "name": "python3"
  },
  "language_info": {
   "codemirror_mode": {
    "name": "ipython",
    "version": 3
   },
   "file_extension": ".py",
   "mimetype": "text/x-python",
   "name": "python",
   "nbconvert_exporter": "python",
   "pygments_lexer": "ipython3",
   "version": "3.8.8"
  }
 },
 "nbformat": 4,
 "nbformat_minor": 5
}
